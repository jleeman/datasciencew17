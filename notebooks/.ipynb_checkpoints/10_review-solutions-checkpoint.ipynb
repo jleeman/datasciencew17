{
 "cells": [
  {
   "cell_type": "markdown",
   "metadata": {},
   "source": [
    "# Review with bank marketing data"
   ]
  },
  {
   "cell_type": "markdown",
   "metadata": {},
   "source": [
    "## Introduction\n",
    "\n",
    "- Data from the UCI Machine Learning Repository: [data](https://github.com/sinanuozdemir/sfdat22/blob/master/data/bank.csv), [data dictionary](https://archive.ics.uci.edu/ml/datasets/Bank+Marketing)\n",
    "- **Goal:** Predict whether a customer will purchase a bank product marketed over the phone\n",
    "- `bank.csv` is already in our repo, so there is no need to download the data from the UCI website"
   ]
  },
  {
   "cell_type": "markdown",
   "metadata": {},
   "source": [
    "## Step 1: Read the data into Pandas"
   ]
  },
  {
   "cell_type": "code",
   "execution_count": 1,
   "metadata": {
    "collapsed": false
   },
   "outputs": [],
   "source": [
    "import pandas as pd\n",
    "import numpy as np\n",
    "import matplotlib.pyplot as plt\n",
    "%matplotlib inline"
   ]
  },
  {
   "cell_type": "code",
   "execution_count": 2,
   "metadata": {
    "collapsed": false
   },
   "outputs": [
    {
     "data": {
      "text/html": [
       "<div style=\"max-height:1000px;max-width:1500px;overflow:auto;\">\n",
       "<table border=\"1\" class=\"dataframe\">\n",
       "  <thead>\n",
       "    <tr style=\"text-align: right;\">\n",
       "      <th></th>\n",
       "      <th>age</th>\n",
       "      <th>job</th>\n",
       "      <th>marital</th>\n",
       "      <th>education</th>\n",
       "      <th>default</th>\n",
       "      <th>housing</th>\n",
       "      <th>loan</th>\n",
       "      <th>contact</th>\n",
       "      <th>month</th>\n",
       "      <th>day_of_week</th>\n",
       "      <th>...</th>\n",
       "      <th>campaign</th>\n",
       "      <th>pdays</th>\n",
       "      <th>previous</th>\n",
       "      <th>poutcome</th>\n",
       "      <th>emp.var.rate</th>\n",
       "      <th>cons.price.idx</th>\n",
       "      <th>cons.conf.idx</th>\n",
       "      <th>euribor3m</th>\n",
       "      <th>nr.employed</th>\n",
       "      <th>y</th>\n",
       "    </tr>\n",
       "  </thead>\n",
       "  <tbody>\n",
       "    <tr>\n",
       "      <th>0</th>\n",
       "      <td> 30</td>\n",
       "      <td> blue-collar</td>\n",
       "      <td> married</td>\n",
       "      <td>          basic.9y</td>\n",
       "      <td> no</td>\n",
       "      <td>     yes</td>\n",
       "      <td>      no</td>\n",
       "      <td>  cellular</td>\n",
       "      <td> may</td>\n",
       "      <td> fri</td>\n",
       "      <td>...</td>\n",
       "      <td> 2</td>\n",
       "      <td> 999</td>\n",
       "      <td> 0</td>\n",
       "      <td> nonexistent</td>\n",
       "      <td>-1.8</td>\n",
       "      <td> 92.893</td>\n",
       "      <td>-46.2</td>\n",
       "      <td> 1.313</td>\n",
       "      <td> 5099.1</td>\n",
       "      <td> no</td>\n",
       "    </tr>\n",
       "    <tr>\n",
       "      <th>1</th>\n",
       "      <td> 39</td>\n",
       "      <td>    services</td>\n",
       "      <td>  single</td>\n",
       "      <td>       high.school</td>\n",
       "      <td> no</td>\n",
       "      <td>      no</td>\n",
       "      <td>      no</td>\n",
       "      <td> telephone</td>\n",
       "      <td> may</td>\n",
       "      <td> fri</td>\n",
       "      <td>...</td>\n",
       "      <td> 4</td>\n",
       "      <td> 999</td>\n",
       "      <td> 0</td>\n",
       "      <td> nonexistent</td>\n",
       "      <td> 1.1</td>\n",
       "      <td> 93.994</td>\n",
       "      <td>-36.4</td>\n",
       "      <td> 4.855</td>\n",
       "      <td> 5191.0</td>\n",
       "      <td> no</td>\n",
       "    </tr>\n",
       "    <tr>\n",
       "      <th>2</th>\n",
       "      <td> 25</td>\n",
       "      <td>    services</td>\n",
       "      <td> married</td>\n",
       "      <td>       high.school</td>\n",
       "      <td> no</td>\n",
       "      <td>     yes</td>\n",
       "      <td>      no</td>\n",
       "      <td> telephone</td>\n",
       "      <td> jun</td>\n",
       "      <td> wed</td>\n",
       "      <td>...</td>\n",
       "      <td> 1</td>\n",
       "      <td> 999</td>\n",
       "      <td> 0</td>\n",
       "      <td> nonexistent</td>\n",
       "      <td> 1.4</td>\n",
       "      <td> 94.465</td>\n",
       "      <td>-41.8</td>\n",
       "      <td> 4.962</td>\n",
       "      <td> 5228.1</td>\n",
       "      <td> no</td>\n",
       "    </tr>\n",
       "    <tr>\n",
       "      <th>3</th>\n",
       "      <td> 38</td>\n",
       "      <td>    services</td>\n",
       "      <td> married</td>\n",
       "      <td>          basic.9y</td>\n",
       "      <td> no</td>\n",
       "      <td> unknown</td>\n",
       "      <td> unknown</td>\n",
       "      <td> telephone</td>\n",
       "      <td> jun</td>\n",
       "      <td> fri</td>\n",
       "      <td>...</td>\n",
       "      <td> 3</td>\n",
       "      <td> 999</td>\n",
       "      <td> 0</td>\n",
       "      <td> nonexistent</td>\n",
       "      <td> 1.4</td>\n",
       "      <td> 94.465</td>\n",
       "      <td>-41.8</td>\n",
       "      <td> 4.959</td>\n",
       "      <td> 5228.1</td>\n",
       "      <td> no</td>\n",
       "    </tr>\n",
       "    <tr>\n",
       "      <th>4</th>\n",
       "      <td> 47</td>\n",
       "      <td>      admin.</td>\n",
       "      <td> married</td>\n",
       "      <td> university.degree</td>\n",
       "      <td> no</td>\n",
       "      <td>     yes</td>\n",
       "      <td>      no</td>\n",
       "      <td>  cellular</td>\n",
       "      <td> nov</td>\n",
       "      <td> mon</td>\n",
       "      <td>...</td>\n",
       "      <td> 1</td>\n",
       "      <td> 999</td>\n",
       "      <td> 0</td>\n",
       "      <td> nonexistent</td>\n",
       "      <td>-0.1</td>\n",
       "      <td> 93.200</td>\n",
       "      <td>-42.0</td>\n",
       "      <td> 4.191</td>\n",
       "      <td> 5195.8</td>\n",
       "      <td> no</td>\n",
       "    </tr>\n",
       "  </tbody>\n",
       "</table>\n",
       "<p>5 rows × 21 columns</p>\n",
       "</div>"
      ],
      "text/plain": [
       "   age          job  marital          education default  housing     loan  \\\n",
       "0   30  blue-collar  married           basic.9y      no      yes       no   \n",
       "1   39     services   single        high.school      no       no       no   \n",
       "2   25     services  married        high.school      no      yes       no   \n",
       "3   38     services  married           basic.9y      no  unknown  unknown   \n",
       "4   47       admin.  married  university.degree      no      yes       no   \n",
       "\n",
       "     contact month day_of_week ...  campaign  pdays  previous     poutcome  \\\n",
       "0   cellular   may         fri ...         2    999         0  nonexistent   \n",
       "1  telephone   may         fri ...         4    999         0  nonexistent   \n",
       "2  telephone   jun         wed ...         1    999         0  nonexistent   \n",
       "3  telephone   jun         fri ...         3    999         0  nonexistent   \n",
       "4   cellular   nov         mon ...         1    999         0  nonexistent   \n",
       "\n",
       "  emp.var.rate  cons.price.idx  cons.conf.idx  euribor3m  nr.employed   y  \n",
       "0         -1.8          92.893          -46.2      1.313       5099.1  no  \n",
       "1          1.1          93.994          -36.4      4.855       5191.0  no  \n",
       "2          1.4          94.465          -41.8      4.962       5228.1  no  \n",
       "3          1.4          94.465          -41.8      4.959       5228.1  no  \n",
       "4         -0.1          93.200          -42.0      4.191       5195.8  no  \n",
       "\n",
       "[5 rows x 21 columns]"
      ]
     },
     "execution_count": 2,
     "metadata": {},
     "output_type": "execute_result"
    }
   ],
   "source": [
    "bank = pd.read_csv('../data/bank.csv', sep=';')\n",
    "bank.head()"
   ]
  },
  {
   "cell_type": "code",
   "execution_count": 3,
   "metadata": {
    "collapsed": false
   },
   "outputs": [
    {
     "data": {
      "text/plain": [
       "(4119, 21)"
      ]
     },
     "execution_count": 3,
     "metadata": {},
     "output_type": "execute_result"
    }
   ],
   "source": [
    "bank.shape"
   ]
  },
  {
   "cell_type": "code",
   "execution_count": 4,
   "metadata": {
    "collapsed": false
   },
   "outputs": [
    {
     "data": {
      "text/plain": [
       "age               0\n",
       "job               0\n",
       "marital           0\n",
       "education         0\n",
       "default           0\n",
       "housing           0\n",
       "loan              0\n",
       "contact           0\n",
       "month             0\n",
       "day_of_week       0\n",
       "duration          0\n",
       "campaign          0\n",
       "pdays             0\n",
       "previous          0\n",
       "poutcome          0\n",
       "emp.var.rate      0\n",
       "cons.price.idx    0\n",
       "cons.conf.idx     0\n",
       "euribor3m         0\n",
       "nr.employed       0\n",
       "y                 0\n",
       "dtype: int64"
      ]
     },
     "execution_count": 4,
     "metadata": {},
     "output_type": "execute_result"
    }
   ],
   "source": [
    "# Do we have any null values?\n",
    "bank.isnull().sum()"
   ]
  },
  {
   "cell_type": "markdown",
   "metadata": {},
   "source": [
    "## Step 2: Prepare at least three features\n",
    "\n",
    "- Include both numeric and categorical features\n",
    "- Choose features that you think might be related to the response (based on intuition or exploration)\n",
    "- Think about how to handle missing values (encoded as \"unknown\")"
   ]
  },
  {
   "cell_type": "code",
   "execution_count": 5,
   "metadata": {
    "collapsed": false
   },
   "outputs": [
    {
     "data": {
      "text/plain": [
       "Index([u'age', u'job', u'marital', u'education', u'default', u'housing', u'loan', u'contact', u'month', u'day_of_week', u'duration', u'campaign', u'pdays', u'previous', u'poutcome', u'emp.var.rate', u'cons.price.idx', u'cons.conf.idx', u'euribor3m', u'nr.employed', u'y'], dtype='object')"
      ]
     },
     "execution_count": 5,
     "metadata": {},
     "output_type": "execute_result"
    }
   ],
   "source": [
    "# list all columns (for reference)\n",
    "bank.columns"
   ]
  },
  {
   "cell_type": "markdown",
   "metadata": {},
   "source": [
    "### y (response)"
   ]
  },
  {
   "cell_type": "code",
   "execution_count": 6,
   "metadata": {
    "collapsed": false
   },
   "outputs": [
    {
     "data": {
      "text/plain": [
       "0    0\n",
       "1    0\n",
       "2    0\n",
       "3    0\n",
       "4    0\n",
       "Name: outcome, dtype: int64"
      ]
     },
     "execution_count": 6,
     "metadata": {},
     "output_type": "execute_result"
    }
   ],
   "source": [
    "# convert the response to numeric values and store as a new column called \"outcome\"\n",
    "bank['outcome'] = bank.y.map({'no':0, 'yes':1})\n",
    "bank['outcome'].head()"
   ]
  },
  {
   "cell_type": "markdown",
   "metadata": {},
   "source": [
    "Let's explore a few columns manually and visually"
   ]
  },
  {
   "cell_type": "markdown",
   "metadata": {},
   "source": [
    "### age"
   ]
  },
  {
   "cell_type": "code",
   "execution_count": null,
   "metadata": {
    "collapsed": true
   },
   "outputs": [],
   "source": []
  },
  {
   "cell_type": "code",
   "execution_count": 7,
   "metadata": {
    "collapsed": false
   },
   "outputs": [
    {
     "name": "stdout",
     "output_type": "stream",
     "text": [
      "\n",
      "\n",
      "\n",
      "\n",
      "\n",
      "\n",
      "\n",
      "\n",
      "\n",
      "\n",
      "\n",
      "\n",
      "\n",
      "\n",
      "\n",
      "\n",
      "\n",
      "\n",
      "\n",
      "\n",
      "\n"
     ]
    }
   ],
   "source": [
    "# Exercise!\n",
    "# create a boxplot of age the data by outcome\n",
    "# TODO\n",
    "print \"\\n\"*20"
   ]
  },
  {
   "cell_type": "code",
   "execution_count": 8,
   "metadata": {
    "collapsed": false
   },
   "outputs": [
    {
     "data": {
      "text/plain": [
       "<matplotlib.axes._subplots.AxesSubplot at 0x10b3ab110>"
      ]
     },
     "execution_count": 8,
     "metadata": {},
     "output_type": "execute_result"
    },
    {
     "data": {
      "image/png": "[encoded data removed]",
      "text/plain": [
       "<matplotlib.figure.Figure at 0x10b2e2d10>"
      ]
     },
     "metadata": {},
     "output_type": "display_data"
    }
   ],
   "source": [
    "# Solution\n",
    "bank.boxplot(column='age', by='outcome')\n",
    "# probably not a great feature, why?\n"
   ]
  },
  {
   "cell_type": "markdown",
   "metadata": {},
   "source": [
    "### job"
   ]
  },
  {
   "cell_type": "code",
   "execution_count": null,
   "metadata": {
    "collapsed": false
   },
   "outputs": [],
   "source": []
  },
  {
   "cell_type": "code",
   "execution_count": 9,
   "metadata": {
    "collapsed": false
   },
   "outputs": [
    {
     "data": {
      "text/plain": [
       "<matplotlib.axes._subplots.AxesSubplot at 0x10b98ced0>"
      ]
     },
     "execution_count": 9,
     "metadata": {},
     "output_type": "execute_result"
    },
    {
     "data": {
      "image/png": "[encoded data removed]",
      "text/plain": [
       "<matplotlib.figure.Figure at 0x10b2e2d50>"
      ]
     },
     "metadata": {},
     "output_type": "display_data"
    }
   ],
   "source": [
    "# looks like a useful feature\n",
    "bank.groupby('job').outcome.mean().plot(kind='bar')\n",
    "# Ask yourself, WHY is this going to be useful?"
   ]
  },
  {
   "cell_type": "code",
   "execution_count": 10,
   "metadata": {
    "collapsed": false
   },
   "outputs": [
    {
     "data": {
      "text/html": [
       "<div style=\"max-height:1000px;max-width:1500px;overflow:auto;\">\n",
       "<table border=\"1\" class=\"dataframe\">\n",
       "  <thead>\n",
       "    <tr style=\"text-align: right;\">\n",
       "      <th></th>\n",
       "      <th>job_blue-collar</th>\n",
       "      <th>job_entrepreneur</th>\n",
       "      <th>job_housemaid</th>\n",
       "      <th>job_management</th>\n",
       "      <th>job_retired</th>\n",
       "      <th>job_self-employed</th>\n",
       "      <th>job_services</th>\n",
       "      <th>job_student</th>\n",
       "      <th>job_technician</th>\n",
       "      <th>job_unemployed</th>\n",
       "      <th>job_unknown</th>\n",
       "    </tr>\n",
       "  </thead>\n",
       "  <tbody>\n",
       "    <tr>\n",
       "      <th>0</th>\n",
       "      <td> 1</td>\n",
       "      <td> 0</td>\n",
       "      <td> 0</td>\n",
       "      <td> 0</td>\n",
       "      <td> 0</td>\n",
       "      <td> 0</td>\n",
       "      <td> 0</td>\n",
       "      <td> 0</td>\n",
       "      <td> 0</td>\n",
       "      <td> 0</td>\n",
       "      <td> 0</td>\n",
       "    </tr>\n",
       "    <tr>\n",
       "      <th>1</th>\n",
       "      <td> 0</td>\n",
       "      <td> 0</td>\n",
       "      <td> 0</td>\n",
       "      <td> 0</td>\n",
       "      <td> 0</td>\n",
       "      <td> 0</td>\n",
       "      <td> 1</td>\n",
       "      <td> 0</td>\n",
       "      <td> 0</td>\n",
       "      <td> 0</td>\n",
       "      <td> 0</td>\n",
       "    </tr>\n",
       "    <tr>\n",
       "      <th>2</th>\n",
       "      <td> 0</td>\n",
       "      <td> 0</td>\n",
       "      <td> 0</td>\n",
       "      <td> 0</td>\n",
       "      <td> 0</td>\n",
       "      <td> 0</td>\n",
       "      <td> 1</td>\n",
       "      <td> 0</td>\n",
       "      <td> 0</td>\n",
       "      <td> 0</td>\n",
       "      <td> 0</td>\n",
       "    </tr>\n",
       "    <tr>\n",
       "      <th>3</th>\n",
       "      <td> 0</td>\n",
       "      <td> 0</td>\n",
       "      <td> 0</td>\n",
       "      <td> 0</td>\n",
       "      <td> 0</td>\n",
       "      <td> 0</td>\n",
       "      <td> 1</td>\n",
       "      <td> 0</td>\n",
       "      <td> 0</td>\n",
       "      <td> 0</td>\n",
       "      <td> 0</td>\n",
       "    </tr>\n",
       "    <tr>\n",
       "      <th>4</th>\n",
       "      <td> 0</td>\n",
       "      <td> 0</td>\n",
       "      <td> 0</td>\n",
       "      <td> 0</td>\n",
       "      <td> 0</td>\n",
       "      <td> 0</td>\n",
       "      <td> 0</td>\n",
       "      <td> 0</td>\n",
       "      <td> 0</td>\n",
       "      <td> 0</td>\n",
       "      <td> 0</td>\n",
       "    </tr>\n",
       "  </tbody>\n",
       "</table>\n",
       "</div>"
      ],
      "text/plain": [
       "   job_blue-collar  job_entrepreneur  job_housemaid  job_management  \\\n",
       "0                1                 0              0               0   \n",
       "1                0                 0              0               0   \n",
       "2                0                 0              0               0   \n",
       "3                0                 0              0               0   \n",
       "4                0                 0              0               0   \n",
       "\n",
       "   job_retired  job_self-employed  job_services  job_student  job_technician  \\\n",
       "0            0                  0             0            0               0   \n",
       "1            0                  0             1            0               0   \n",
       "2            0                  0             1            0               0   \n",
       "3            0                  0             1            0               0   \n",
       "4            0                  0             0            0               0   \n",
       "\n",
       "   job_unemployed  job_unknown  \n",
       "0               0            0  \n",
       "1               0            0  \n",
       "2               0            0  \n",
       "3               0            0  \n",
       "4               0            0  "
      ]
     },
     "execution_count": 10,
     "metadata": {},
     "output_type": "execute_result"
    }
   ],
   "source": [
    "# create job_dummies (we will add it to the bank DataFrame later)\n",
    "job_dummies = pd.get_dummies(bank.job, prefix='job')\n",
    "# removing the first job from the list (making it k-1 columns) where k is the number of jobs\n",
    "job_dummies.drop(job_dummies.columns[0], axis=1, inplace=True)\n",
    "job_dummies.head()"
   ]
  },
  {
   "cell_type": "markdown",
   "metadata": {},
   "source": [
    "### default"
   ]
  },
  {
   "cell_type": "code",
   "execution_count": 11,
   "metadata": {
    "collapsed": false
   },
   "outputs": [
    {
     "data": {
      "text/plain": [
       "<matplotlib.axes._subplots.AxesSubplot at 0x10b9cb890>"
      ]
     },
     "execution_count": 11,
     "metadata": {},
     "output_type": "execute_result"
    },
    {
     "data": {
      "image/png": "[encoded data removed]",
      "text/plain": [
       "<matplotlib.figure.Figure at 0x10bc38ed0>"
      ]
     },
     "metadata": {},
     "output_type": "display_data"
    }
   ],
   "source": [
    "# looks like a useful feature\n",
    "bank.groupby('default').outcome.mean().plot(kind='bar')"
   ]
  },
  {
   "cell_type": "code",
   "execution_count": null,
   "metadata": {
    "collapsed": false
   },
   "outputs": [],
   "source": [
    "# Exercise! \n",
    "# How many people have a value of no, yes, and unknown?\n",
    "# TODO\n",
    "print \"\\n\"*20"
   ]
  },
  {
   "cell_type": "code",
   "execution_count": 12,
   "metadata": {
    "collapsed": false
   },
   "outputs": [
    {
     "data": {
      "text/plain": [
       "no         3315\n",
       "unknown     803\n",
       "yes           1\n",
       "dtype: int64"
      ]
     },
     "execution_count": 12,
     "metadata": {},
     "output_type": "execute_result"
    }
   ],
   "source": [
    "# Solution!\n",
    "bank.default.value_counts()\n",
    "# only one person in the dataset has a status of yes"
   ]
  },
  {
   "cell_type": "code",
   "execution_count": 13,
   "metadata": {
    "collapsed": false
   },
   "outputs": [
    {
     "data": {
      "text/html": [
       "<div style=\"max-height:1000px;max-width:1500px;overflow:auto;\">\n",
       "<table border=\"1\" class=\"dataframe\">\n",
       "  <thead>\n",
       "    <tr style=\"text-align: right;\">\n",
       "      <th></th>\n",
       "      <th>age</th>\n",
       "      <th>job</th>\n",
       "      <th>marital</th>\n",
       "      <th>education</th>\n",
       "      <th>default</th>\n",
       "      <th>housing</th>\n",
       "      <th>loan</th>\n",
       "      <th>contact</th>\n",
       "      <th>month</th>\n",
       "      <th>day_of_week</th>\n",
       "      <th>...</th>\n",
       "      <th>pdays</th>\n",
       "      <th>previous</th>\n",
       "      <th>poutcome</th>\n",
       "      <th>emp.var.rate</th>\n",
       "      <th>cons.price.idx</th>\n",
       "      <th>cons.conf.idx</th>\n",
       "      <th>euribor3m</th>\n",
       "      <th>nr.employed</th>\n",
       "      <th>y</th>\n",
       "      <th>outcome</th>\n",
       "    </tr>\n",
       "  </thead>\n",
       "  <tbody>\n",
       "    <tr>\n",
       "      <th>0</th>\n",
       "      <td> 30</td>\n",
       "      <td> blue-collar</td>\n",
       "      <td> married</td>\n",
       "      <td>          basic.9y</td>\n",
       "      <td> 0</td>\n",
       "      <td>     yes</td>\n",
       "      <td>      no</td>\n",
       "      <td>  cellular</td>\n",
       "      <td> may</td>\n",
       "      <td> fri</td>\n",
       "      <td>...</td>\n",
       "      <td> 999</td>\n",
       "      <td> 0</td>\n",
       "      <td> nonexistent</td>\n",
       "      <td>-1.8</td>\n",
       "      <td> 92.893</td>\n",
       "      <td>-46.2</td>\n",
       "      <td> 1.313</td>\n",
       "      <td> 5099.1</td>\n",
       "      <td> no</td>\n",
       "      <td> 0</td>\n",
       "    </tr>\n",
       "    <tr>\n",
       "      <th>1</th>\n",
       "      <td> 39</td>\n",
       "      <td>    services</td>\n",
       "      <td>  single</td>\n",
       "      <td>       high.school</td>\n",
       "      <td> 0</td>\n",
       "      <td>      no</td>\n",
       "      <td>      no</td>\n",
       "      <td> telephone</td>\n",
       "      <td> may</td>\n",
       "      <td> fri</td>\n",
       "      <td>...</td>\n",
       "      <td> 999</td>\n",
       "      <td> 0</td>\n",
       "      <td> nonexistent</td>\n",
       "      <td> 1.1</td>\n",
       "      <td> 93.994</td>\n",
       "      <td>-36.4</td>\n",
       "      <td> 4.855</td>\n",
       "      <td> 5191.0</td>\n",
       "      <td> no</td>\n",
       "      <td> 0</td>\n",
       "    </tr>\n",
       "    <tr>\n",
       "      <th>2</th>\n",
       "      <td> 25</td>\n",
       "      <td>    services</td>\n",
       "      <td> married</td>\n",
       "      <td>       high.school</td>\n",
       "      <td> 0</td>\n",
       "      <td>     yes</td>\n",
       "      <td>      no</td>\n",
       "      <td> telephone</td>\n",
       "      <td> jun</td>\n",
       "      <td> wed</td>\n",
       "      <td>...</td>\n",
       "      <td> 999</td>\n",
       "      <td> 0</td>\n",
       "      <td> nonexistent</td>\n",
       "      <td> 1.4</td>\n",
       "      <td> 94.465</td>\n",
       "      <td>-41.8</td>\n",
       "      <td> 4.962</td>\n",
       "      <td> 5228.1</td>\n",
       "      <td> no</td>\n",
       "      <td> 0</td>\n",
       "    </tr>\n",
       "    <tr>\n",
       "      <th>3</th>\n",
       "      <td> 38</td>\n",
       "      <td>    services</td>\n",
       "      <td> married</td>\n",
       "      <td>          basic.9y</td>\n",
       "      <td> 0</td>\n",
       "      <td> unknown</td>\n",
       "      <td> unknown</td>\n",
       "      <td> telephone</td>\n",
       "      <td> jun</td>\n",
       "      <td> fri</td>\n",
       "      <td>...</td>\n",
       "      <td> 999</td>\n",
       "      <td> 0</td>\n",
       "      <td> nonexistent</td>\n",
       "      <td> 1.4</td>\n",
       "      <td> 94.465</td>\n",
       "      <td>-41.8</td>\n",
       "      <td> 4.959</td>\n",
       "      <td> 5228.1</td>\n",
       "      <td> no</td>\n",
       "      <td> 0</td>\n",
       "    </tr>\n",
       "    <tr>\n",
       "      <th>4</th>\n",
       "      <td> 47</td>\n",
       "      <td>      admin.</td>\n",
       "      <td> married</td>\n",
       "      <td> university.degree</td>\n",
       "      <td> 0</td>\n",
       "      <td>     yes</td>\n",
       "      <td>      no</td>\n",
       "      <td>  cellular</td>\n",
       "      <td> nov</td>\n",
       "      <td> mon</td>\n",
       "      <td>...</td>\n",
       "      <td> 999</td>\n",
       "      <td> 0</td>\n",
       "      <td> nonexistent</td>\n",
       "      <td>-0.1</td>\n",
       "      <td> 93.200</td>\n",
       "      <td>-42.0</td>\n",
       "      <td> 4.191</td>\n",
       "      <td> 5195.8</td>\n",
       "      <td> no</td>\n",
       "      <td> 0</td>\n",
       "    </tr>\n",
       "  </tbody>\n",
       "</table>\n",
       "<p>5 rows × 22 columns</p>\n",
       "</div>"
      ],
      "text/plain": [
       "   age          job  marital          education  default  housing     loan  \\\n",
       "0   30  blue-collar  married           basic.9y        0      yes       no   \n",
       "1   39     services   single        high.school        0       no       no   \n",
       "2   25     services  married        high.school        0      yes       no   \n",
       "3   38     services  married           basic.9y        0  unknown  unknown   \n",
       "4   47       admin.  married  university.degree        0      yes       no   \n",
       "\n",
       "     contact month day_of_week   ...     pdays  previous     poutcome  \\\n",
       "0   cellular   may         fri   ...       999         0  nonexistent   \n",
       "1  telephone   may         fri   ...       999         0  nonexistent   \n",
       "2  telephone   jun         wed   ...       999         0  nonexistent   \n",
       "3  telephone   jun         fri   ...       999         0  nonexistent   \n",
       "4   cellular   nov         mon   ...       999         0  nonexistent   \n",
       "\n",
       "   emp.var.rate cons.price.idx  cons.conf.idx  euribor3m  nr.employed   y  \\\n",
       "0          -1.8         92.893          -46.2      1.313       5099.1  no   \n",
       "1           1.1         93.994          -36.4      4.855       5191.0  no   \n",
       "2           1.4         94.465          -41.8      4.962       5228.1  no   \n",
       "3           1.4         94.465          -41.8      4.959       5228.1  no   \n",
       "4          -0.1         93.200          -42.0      4.191       5195.8  no   \n",
       "\n",
       "   outcome  \n",
       "0        0  \n",
       "1        0  \n",
       "2        0  \n",
       "3        0  \n",
       "4        0  \n",
       "\n",
       "[5 rows x 22 columns]"
      ]
     },
     "execution_count": 13,
     "metadata": {},
     "output_type": "execute_result"
    }
   ],
   "source": [
    "# So, let's treat this as a 2-class feature rather than a 3-class feature\n",
    "bank['default'] = bank.default.map({'no':0, 'unknown':1, 'yes':1})\n",
    "bank.head()"
   ]
  },
  {
   "cell_type": "markdown",
   "metadata": {},
   "source": [
    "### contact"
   ]
  },
  {
   "cell_type": "code",
   "execution_count": null,
   "metadata": {
    "collapsed": true
   },
   "outputs": [],
   "source": []
  },
  {
   "cell_type": "code",
   "execution_count": 14,
   "metadata": {
    "collapsed": false
   },
   "outputs": [
    {
     "data": {
      "text/plain": [
       "contact\n",
       "cellular     0.141403\n",
       "telephone    0.051806\n",
       "Name: outcome, dtype: float64"
      ]
     },
     "execution_count": 14,
     "metadata": {},
     "output_type": "execute_result"
    }
   ],
   "source": [
    "# looks like a useful feature\n",
    "bank.groupby('contact').outcome.mean()"
   ]
  },
  {
   "cell_type": "code",
   "execution_count": null,
   "metadata": {
    "collapsed": true
   },
   "outputs": [],
   "source": []
  },
  {
   "cell_type": "code",
   "execution_count": null,
   "metadata": {
    "collapsed": false
   },
   "outputs": [],
   "source": [
    "# Exercise! \n",
    "# Convert the feature to numeric values, 0 for cellular, 1 for telephone\n",
    "# TODO\n",
    "print \"\\n\"*20"
   ]
  },
  {
   "cell_type": "code",
   "execution_count": 15,
   "metadata": {
    "collapsed": true
   },
   "outputs": [],
   "source": [
    "# Solution!\n",
    "bank['contact'] = bank.contact.map({'cellular':0, 'telephone':1})"
   ]
  },
  {
   "cell_type": "markdown",
   "metadata": {},
   "source": [
    "### month"
   ]
  },
  {
   "cell_type": "code",
   "execution_count": 16,
   "metadata": {
    "collapsed": false
   },
   "outputs": [
    {
     "data": {
      "text/plain": [
       "month\n",
       "apr      0.167442\n",
       "aug      0.100629\n",
       "dec      0.545455\n",
       "jul      0.082982\n",
       "jun      0.128302\n",
       "mar      0.583333\n",
       "may      0.065312\n",
       "nov      0.096413\n",
       "oct      0.362319\n",
       "sep      0.406250\n",
       "Name: outcome, dtype: float64"
      ]
     },
     "execution_count": 16,
     "metadata": {},
     "output_type": "execute_result"
    }
   ],
   "source": [
    "# looks like a useful feature at first glance\n",
    "bank.groupby('month').outcome.mean()"
   ]
  },
  {
   "cell_type": "code",
   "execution_count": 17,
   "metadata": {
    "collapsed": false
   },
   "outputs": [
    {
     "data": {
      "text/html": [
       "<div style=\"max-height:1000px;max-width:1500px;overflow:auto;\">\n",
       "<table border=\"1\" class=\"dataframe\">\n",
       "  <thead>\n",
       "    <tr style=\"text-align: right;\">\n",
       "      <th></th>\n",
       "      <th>count</th>\n",
       "      <th>mean</th>\n",
       "    </tr>\n",
       "    <tr>\n",
       "      <th>month</th>\n",
       "      <th></th>\n",
       "      <th></th>\n",
       "    </tr>\n",
       "  </thead>\n",
       "  <tbody>\n",
       "    <tr>\n",
       "      <th>dec</th>\n",
       "      <td>   22</td>\n",
       "      <td> 0.545455</td>\n",
       "    </tr>\n",
       "    <tr>\n",
       "      <th>mar</th>\n",
       "      <td>   48</td>\n",
       "      <td> 0.583333</td>\n",
       "    </tr>\n",
       "    <tr>\n",
       "      <th>sep</th>\n",
       "      <td>   64</td>\n",
       "      <td> 0.406250</td>\n",
       "    </tr>\n",
       "    <tr>\n",
       "      <th>oct</th>\n",
       "      <td>   69</td>\n",
       "      <td> 0.362319</td>\n",
       "    </tr>\n",
       "    <tr>\n",
       "      <th>apr</th>\n",
       "      <td>  215</td>\n",
       "      <td> 0.167442</td>\n",
       "    </tr>\n",
       "    <tr>\n",
       "      <th>nov</th>\n",
       "      <td>  446</td>\n",
       "      <td> 0.096413</td>\n",
       "    </tr>\n",
       "    <tr>\n",
       "      <th>jun</th>\n",
       "      <td>  530</td>\n",
       "      <td> 0.128302</td>\n",
       "    </tr>\n",
       "    <tr>\n",
       "      <th>aug</th>\n",
       "      <td>  636</td>\n",
       "      <td> 0.100629</td>\n",
       "    </tr>\n",
       "    <tr>\n",
       "      <th>jul</th>\n",
       "      <td>  711</td>\n",
       "      <td> 0.082982</td>\n",
       "    </tr>\n",
       "    <tr>\n",
       "      <th>may</th>\n",
       "      <td> 1378</td>\n",
       "      <td> 0.065312</td>\n",
       "    </tr>\n",
       "  </tbody>\n",
       "</table>\n",
       "</div>"
      ],
      "text/plain": [
       "       count      mean\n",
       "month                 \n",
       "dec       22  0.545455\n",
       "mar       48  0.583333\n",
       "sep       64  0.406250\n",
       "oct       69  0.362319\n",
       "apr      215  0.167442\n",
       "nov      446  0.096413\n",
       "jun      530  0.128302\n",
       "aug      636  0.100629\n",
       "jul      711  0.082982\n",
       "may     1378  0.065312"
      ]
     },
     "execution_count": 17,
     "metadata": {},
     "output_type": "execute_result"
    }
   ],
   "source": [
    "# but, it looks like their success rate is actually just correlated with number of calls\n",
    "# thus, the month feature is unlikely to generalize\n",
    "bank.groupby('month').outcome.agg(['count', 'mean']).sort('count')"
   ]
  },
  {
   "cell_type": "code",
   "execution_count": 18,
   "metadata": {
    "collapsed": false
   },
   "outputs": [
    {
     "data": {
      "text/html": [
       "<div style=\"max-height:1000px;max-width:1500px;overflow:auto;\">\n",
       "<table border=\"1\" class=\"dataframe\">\n",
       "  <thead>\n",
       "    <tr style=\"text-align: right;\">\n",
       "      <th></th>\n",
       "      <th>count</th>\n",
       "      <th>mean</th>\n",
       "    </tr>\n",
       "  </thead>\n",
       "  <tbody>\n",
       "    <tr>\n",
       "      <th>count</th>\n",
       "      <td> 1.000000</td>\n",
       "      <td>-0.766364</td>\n",
       "    </tr>\n",
       "    <tr>\n",
       "      <th>mean</th>\n",
       "      <td>-0.766364</td>\n",
       "      <td> 1.000000</td>\n",
       "    </tr>\n",
       "  </tbody>\n",
       "</table>\n",
       "</div>"
      ],
      "text/plain": [
       "          count      mean\n",
       "count  1.000000 -0.766364\n",
       "mean  -0.766364  1.000000"
      ]
     },
     "execution_count": 18,
     "metadata": {},
     "output_type": "execute_result"
    }
   ],
   "source": [
    "bank.groupby('month').outcome.agg(['count', 'mean']).sort('count').corr()"
   ]
  },
  {
   "cell_type": "markdown",
   "metadata": {},
   "source": [
    "### duration"
   ]
  },
  {
   "cell_type": "code",
   "execution_count": 19,
   "metadata": {
    "collapsed": false
   },
   "outputs": [
    {
     "data": {
      "text/plain": [
       "<matplotlib.axes._subplots.AxesSubplot at 0x10bcaad90>"
      ]
     },
     "execution_count": 19,
     "metadata": {},
     "output_type": "execute_result"
    },
    {
     "data": {
      "image/png": "[encoded data removed]",
      "text/plain": [
       "<matplotlib.figure.Figure at 0x10b9c1dd0>"
      ]
     },
     "metadata": {},
     "output_type": "display_data"
    }
   ],
   "source": [
    "# looks like an excellent feature, can you think of a reason why duration isn't helpful in practice?\n",
    "bank.boxplot(column='duration', by='outcome')"
   ]
  },
  {
   "cell_type": "code",
   "execution_count": null,
   "metadata": {
    "collapsed": true
   },
   "outputs": [],
   "source": [
    "# Answer: You can't know the duration of a call beforehand, thus it can't be used in your model"
   ]
  },
  {
   "cell_type": "markdown",
   "metadata": {},
   "source": [
    "### previous"
   ]
  },
  {
   "cell_type": "code",
   "execution_count": 20,
   "metadata": {
    "collapsed": false
   },
   "outputs": [
    {
     "data": {
      "text/plain": [
       "previous\n",
       "0           0.082884\n",
       "1           0.208421\n",
       "2           0.410256\n",
       "3           0.600000\n",
       "4           0.714286\n",
       "5           1.000000\n",
       "6           0.500000\n",
       "Name: outcome, dtype: float64"
      ]
     },
     "execution_count": 20,
     "metadata": {},
     "output_type": "execute_result"
    }
   ],
   "source": [
    "# looks like a useful feature\n",
    "bank.groupby('previous').outcome.mean()"
   ]
  },
  {
   "cell_type": "markdown",
   "metadata": {},
   "source": [
    "### poutcome"
   ]
  },
  {
   "cell_type": "code",
   "execution_count": 21,
   "metadata": {
    "collapsed": false
   },
   "outputs": [
    {
     "data": {
      "text/plain": [
       "poutcome\n",
       "failure        0.147577\n",
       "nonexistent    0.082884\n",
       "success        0.647887\n",
       "Name: outcome, dtype: float64"
      ]
     },
     "execution_count": 21,
     "metadata": {},
     "output_type": "execute_result"
    }
   ],
   "source": [
    "# looks like a useful feature\n",
    "bank.groupby('poutcome').outcome.mean()"
   ]
  },
  {
   "cell_type": "code",
   "execution_count": 22,
   "metadata": {
    "collapsed": true
   },
   "outputs": [],
   "source": [
    "# create poutcome_dummies\n",
    "poutcome_dummies = pd.get_dummies(bank.poutcome, prefix='poutcome')\n",
    "poutcome_dummies.drop(poutcome_dummies.columns[0], axis=1, inplace=True)"
   ]
  },
  {
   "cell_type": "code",
   "execution_count": 23,
   "metadata": {
    "collapsed": true
   },
   "outputs": [],
   "source": [
    "# concatenate bank DataFrame with job_dummies and poutcome_dummies\n",
    "bank = pd.concat([bank, job_dummies, poutcome_dummies], axis=1)"
   ]
  },
  {
   "cell_type": "code",
   "execution_count": null,
   "metadata": {
    "collapsed": false
   },
   "outputs": [],
   "source": []
  },
  {
   "cell_type": "markdown",
   "metadata": {},
   "source": [
    "### euribor3m"
   ]
  },
  {
   "cell_type": "code",
   "execution_count": 24,
   "metadata": {
    "collapsed": false
   },
   "outputs": [
    {
     "data": {
      "text/plain": [
       "<matplotlib.axes._subplots.AxesSubplot at 0x10be95a50>"
      ]
     },
     "execution_count": 24,
     "metadata": {},
     "output_type": "execute_result"
    },
    {
     "data": {
      "image/png": "[encoded data removed]",
      "text/plain": [
       "<matplotlib.figure.Figure at 0x10be9d150>"
      ]
     },
     "metadata": {},
     "output_type": "display_data"
    }
   ],
   "source": [
    "# looks like an excellent feature\n",
    "bank.boxplot(column='euribor3m', by='outcome')"
   ]
  },
  {
   "cell_type": "markdown",
   "metadata": {},
   "source": [
    "## Step 3: Model building\n",
    "\n",
    "- Use cross-validation to evaluate the AUC of a logistic regression model with your chosen features\n",
    "- Try to increase the AUC by selecting different sets of features"
   ]
  },
  {
   "cell_type": "code",
   "execution_count": 25,
   "metadata": {
    "collapsed": false
   },
   "outputs": [
    {
     "data": {
      "text/plain": [
       "Index([u'age', u'job', u'marital', u'education', u'default', u'housing', u'loan', u'contact', u'month', u'day_of_week', u'duration', u'campaign', u'pdays', u'previous', u'poutcome', u'emp.var.rate', u'cons.price.idx', u'cons.conf.idx', u'euribor3m', u'nr.employed', u'y', u'outcome', u'job_blue-collar', u'job_entrepreneur', u'job_housemaid', u'job_management', u'job_retired', u'job_self-employed', u'job_services', u'job_student', u'job_technician', u'job_unemployed', u'job_unknown', u'poutcome_nonexistent', u'poutcome_success'], dtype='object')"
      ]
     },
     "execution_count": 25,
     "metadata": {},
     "output_type": "execute_result"
    }
   ],
   "source": [
    "# new list of columns (including dummy columns)\n",
    "bank.columns"
   ]
  },
  {
   "cell_type": "code",
   "execution_count": 26,
   "metadata": {
    "collapsed": false
   },
   "outputs": [],
   "source": [
    "# create X (including 13 dummy columns)\n",
    "feature_cols = ['default', 'contact', 'previous', 'euribor3m'] + list(bank.columns[-13:])\n",
    "X = bank[feature_cols]"
   ]
  },
  {
   "cell_type": "code",
   "execution_count": 27,
   "metadata": {
    "collapsed": true
   },
   "outputs": [],
   "source": [
    "# create y\n",
    "y = bank.outcome"
   ]
  },
  {
   "cell_type": "code",
   "execution_count": null,
   "metadata": {
    "collapsed": false
   },
   "outputs": [],
   "source": [
    "# Exercise! \n",
    "# calculate cross-validated Accuracy for logisic regression, and knn with 5 neighbors\n",
    "# TODO\n",
    "print \"\\n\"*20"
   ]
  },
  {
   "cell_type": "code",
   "execution_count": 28,
   "metadata": {
    "collapsed": true
   },
   "outputs": [],
   "source": [
    "from sklearn.linear_model import LogisticRegression\n",
    "from sklearn.cross_validation import cross_val_score\n",
    "from sklearn.neighbors import KNeighborsClassifier"
   ]
  },
  {
   "cell_type": "code",
   "execution_count": 29,
   "metadata": {
    "collapsed": false
   },
   "outputs": [
    {
     "data": {
      "text/plain": [
       "0.90215602496498271"
      ]
     },
     "execution_count": 29,
     "metadata": {},
     "output_type": "execute_result"
    }
   ],
   "source": [
    "# Solution!\n",
    "logreg = LogisticRegression()\n",
    "cross_val_score(logreg, X, y, cv=10, scoring='accuracy').mean()"
   ]
  },
  {
   "cell_type": "code",
   "execution_count": 30,
   "metadata": {
    "collapsed": false
   },
   "outputs": [
    {
     "data": {
      "text/plain": [
       "0.90046229940191136"
      ]
     },
     "execution_count": 30,
     "metadata": {},
     "output_type": "execute_result"
    }
   ],
   "source": [
    "knn = KNeighborsClassifier(5)\n",
    "cross_val_score(knn, X, y, cv=10, scoring='accuracy').mean()"
   ]
  },
  {
   "cell_type": "code",
   "execution_count": null,
   "metadata": {
    "collapsed": false
   },
   "outputs": [],
   "source": [
    "# Exercise! \n",
    "# use grid search to try k in range from 1-29 (odd only) for knn, and graph the accuracy from a cross val score vs the k\n",
    "# TODO\n",
    "print \"\\n\"*20"
   ]
  },
  {
   "cell_type": "code",
   "execution_count": 31,
   "metadata": {
    "collapsed": false
   },
   "outputs": [
    {
     "data": {
      "text/plain": [
       "GridSearchCV(cv=5,\n",
       "       estimator=KNeighborsClassifier(algorithm='auto', leaf_size=30, metric='minkowski',\n",
       "           metric_params=None, n_neighbors=5, p=2, weights='uniform'),\n",
       "       fit_params={}, iid=True, loss_func=None, n_jobs=1,\n",
       "       param_grid={'n_neighbors': [1, 3, 5, 7, 9, 11, 13, 15, 17, 19, 21, 23, 25, 27]},\n",
       "       pre_dispatch='2*n_jobs', refit=True, score_func=None,\n",
       "       scoring='accuracy', verbose=0)"
      ]
     },
     "execution_count": 31,
     "metadata": {},
     "output_type": "execute_result"
    }
   ],
   "source": [
    "# Solution!\n",
    "from sklearn.grid_search import GridSearchCV\n",
    "knn = KNeighborsClassifier()\n",
    "param_grid = {'n_neighbors': range(1, 29, 2)}\n",
    "grid = GridSearchCV(knn, param_grid, cv=5, scoring='accuracy')\n",
    "grid.fit(X, y)"
   ]
  },
  {
   "cell_type": "code",
   "execution_count": null,
   "metadata": {
    "collapsed": false
   },
   "outputs": [],
   "source": []
  },
  {
   "cell_type": "code",
   "execution_count": 32,
   "metadata": {
    "collapsed": false
   },
   "outputs": [
    {
     "data": {
      "text/plain": [
       "[<matplotlib.lines.Line2D at 0x10dfe3750>]"
      ]
     },
     "execution_count": 32,
     "metadata": {},
     "output_type": "execute_result"
    },
    {
     "data": {
      "image/png": "[encoded data removed]",
      "text/plain": [
       "<matplotlib.figure.Figure at 0x10dd72b50>"
      ]
     },
     "metadata": {},
     "output_type": "display_data"
    }
   ],
   "source": [
    "grid_mean_scores = [result[1] for result in grid.grid_scores_]\n",
    "plt.figure()\n",
    "plt.plot(range(1, 29, 2), grid_mean_scores)"
   ]
  },
  {
   "cell_type": "raw",
   "metadata": {},
   "source": []
  },
  {
   "cell_type": "code",
   "execution_count": 33,
   "metadata": {
    "collapsed": false
   },
   "outputs": [
    {
     "data": {
      "text/plain": [
       "KNeighborsClassifier(algorithm='auto', leaf_size=30, metric='minkowski',\n",
       "           metric_params=None, n_neighbors=27, p=2, weights='uniform')"
      ]
     },
     "execution_count": 33,
     "metadata": {},
     "output_type": "execute_result"
    }
   ],
   "source": [
    "grid.best_estimator_.\n"
   ]
  },
  {
   "cell_type": "code",
   "execution_count": null,
   "metadata": {
    "collapsed": true
   },
   "outputs": [],
   "source": [
    "# look's like adding to k after 5 doesn't even help that much...."
   ]
  },
  {
   "cell_type": "code",
   "execution_count": null,
   "metadata": {
    "collapsed": false
   },
   "outputs": [],
   "source": [
    "# Exercise! \n",
    "# Create a confusion matrix from the best estimator in the gridsearch and find the accuracy, sensitivity, and specificity\n",
    "# TODO\n",
    "print \"\\n\"*20"
   ]
  },
  {
   "cell_type": "code",
   "execution_count": 34,
   "metadata": {
    "collapsed": false
   },
   "outputs": [
    {
     "name": "stdout",
     "output_type": "stream",
     "text": [
      "[[3625   43]\n",
      " [ 351  100]]\n"
     ]
    }
   ],
   "source": [
    "# Solution! \n",
    "from sklearn import metrics\n",
    "preds = grid.best_estimator_.predict(X)\n",
    "print metrics.confusion_matrix(y, preds)\n",
    "# Accuracy = (3625  + 100) / 4119  == .904\n",
    "# Sensitivity = 100 / (100 + 351)  == .222\n",
    "# Specificity = 3625 / (3625 + 43) == .988"
   ]
  },
  {
   "cell_type": "code",
   "execution_count": null,
   "metadata": {
    "collapsed": false
   },
   "outputs": [],
   "source": [
    "# Exercise! \n",
    "# Compare the accuracy to the null accuracy rate\n",
    "# TODO\n",
    "print \"\\n\"*20"
   ]
  },
  {
   "cell_type": "code",
   "execution_count": 35,
   "metadata": {
    "collapsed": false
   },
   "outputs": [
    {
     "data": {
      "text/plain": [
       "0.89050740470988099"
      ]
     },
     "execution_count": 35,
     "metadata": {},
     "output_type": "execute_result"
    }
   ],
   "source": [
    "# Solution!\n",
    "\n",
    "null_accuracy_rate = bank['outcome'].value_counts()[0] / float(bank.shape[0])\n",
    "null_accuracy_rate\n",
    "# accuracy is greater than the null accuracy rate!"
   ]
  },
  {
   "cell_type": "code",
   "execution_count": null,
   "metadata": {
    "collapsed": true
   },
   "outputs": [],
   "source": [
    "# What can we do to make the model better?\n",
    "\n",
    "# Thought Experiment"
   ]
  },
  {
   "cell_type": "markdown",
   "metadata": {},
   "source": [
    "What if we want to regress to the duration of the call so the rep can better plan their day?"
   ]
  },
  {
   "cell_type": "code",
   "execution_count": 36,
   "metadata": {
    "collapsed": false
   },
   "outputs": [
    {
     "data": {
      "text/html": [
       "<div style=\"max-height:1000px;max-width:1500px;overflow:auto;\">\n",
       "<table border=\"1\" class=\"dataframe\">\n",
       "  <thead>\n",
       "    <tr style=\"text-align: right;\">\n",
       "      <th></th>\n",
       "      <th>age</th>\n",
       "      <th>default</th>\n",
       "      <th>contact</th>\n",
       "      <th>duration</th>\n",
       "      <th>campaign</th>\n",
       "      <th>pdays</th>\n",
       "      <th>previous</th>\n",
       "      <th>emp.var.rate</th>\n",
       "      <th>cons.price.idx</th>\n",
       "      <th>cons.conf.idx</th>\n",
       "      <th>...</th>\n",
       "      <th>job_management</th>\n",
       "      <th>job_retired</th>\n",
       "      <th>job_self-employed</th>\n",
       "      <th>job_services</th>\n",
       "      <th>job_student</th>\n",
       "      <th>job_technician</th>\n",
       "      <th>job_unemployed</th>\n",
       "      <th>job_unknown</th>\n",
       "      <th>poutcome_nonexistent</th>\n",
       "      <th>poutcome_success</th>\n",
       "    </tr>\n",
       "  </thead>\n",
       "  <tbody>\n",
       "    <tr>\n",
       "      <th>age</th>\n",
       "      <td> 1.000000</td>\n",
       "      <td> 0.161427</td>\n",
       "      <td> 0.012700</td>\n",
       "      <td> 0.041299</td>\n",
       "      <td>-0.014169</td>\n",
       "      <td>-0.043425</td>\n",
       "      <td> 0.050931</td>\n",
       "      <td>-0.019192</td>\n",
       "      <td>-0.000482</td>\n",
       "      <td> 0.098135</td>\n",
       "      <td>...</td>\n",
       "      <td> 0.065606</td>\n",
       "      <td> 0.412542</td>\n",
       "      <td> 0.010991</td>\n",
       "      <td>-0.050379</td>\n",
       "      <td>-0.185453</td>\n",
       "      <td>-0.064930</td>\n",
       "      <td>-0.009394</td>\n",
       "      <td> 0.063831</td>\n",
       "      <td>-0.031205</td>\n",
       "      <td> 0.043341</td>\n",
       "    </tr>\n",
       "    <tr>\n",
       "      <th>default</th>\n",
       "      <td> 0.161427</td>\n",
       "      <td> 1.000000</td>\n",
       "      <td> 0.150494</td>\n",
       "      <td>-0.020140</td>\n",
       "      <td> 0.021239</td>\n",
       "      <td> 0.089514</td>\n",
       "      <td>-0.092754</td>\n",
       "      <td> 0.184389</td>\n",
       "      <td> 0.162098</td>\n",
       "      <td> 0.021570</td>\n",
       "      <td>...</td>\n",
       "      <td>-0.043783</td>\n",
       "      <td> 0.023665</td>\n",
       "      <td>-0.019191</td>\n",
       "      <td> 0.021453</td>\n",
       "      <td>-0.017566</td>\n",
       "      <td>-0.081766</td>\n",
       "      <td>-0.010086</td>\n",
       "      <td> 0.065701</td>\n",
       "      <td> 0.091124</td>\n",
       "      <td>-0.086343</td>\n",
       "    </tr>\n",
       "    <tr>\n",
       "      <th>contact</th>\n",
       "      <td> 0.012700</td>\n",
       "      <td> 0.150494</td>\n",
       "      <td> 1.000000</td>\n",
       "      <td>-0.028185</td>\n",
       "      <td> 0.085654</td>\n",
       "      <td> 0.120670</td>\n",
       "      <td>-0.215464</td>\n",
       "      <td> 0.383405</td>\n",
       "      <td> 0.574452</td>\n",
       "      <td> 0.252035</td>\n",
       "      <td>...</td>\n",
       "      <td>-0.045940</td>\n",
       "      <td>-0.038983</td>\n",
       "      <td> 0.003609</td>\n",
       "      <td> 0.024214</td>\n",
       "      <td>-0.018891</td>\n",
       "      <td>-0.021849</td>\n",
       "      <td> 0.001462</td>\n",
       "      <td> 0.021516</td>\n",
       "      <td> 0.251147</td>\n",
       "      <td>-0.109971</td>\n",
       "    </tr>\n",
       "    <tr>\n",
       "      <th>duration</th>\n",
       "      <td> 0.041299</td>\n",
       "      <td>-0.020140</td>\n",
       "      <td>-0.028185</td>\n",
       "      <td> 1.000000</td>\n",
       "      <td>-0.085348</td>\n",
       "      <td>-0.046998</td>\n",
       "      <td> 0.025724</td>\n",
       "      <td>-0.028848</td>\n",
       "      <td> 0.016672</td>\n",
       "      <td>-0.034745</td>\n",
       "      <td>...</td>\n",
       "      <td>-0.011460</td>\n",
       "      <td> 0.044257</td>\n",
       "      <td>-0.001466</td>\n",
       "      <td>-0.030936</td>\n",
       "      <td> 0.016982</td>\n",
       "      <td>-0.006173</td>\n",
       "      <td>-0.004565</td>\n",
       "      <td>-0.008591</td>\n",
       "      <td>-0.021259</td>\n",
       "      <td> 0.046154</td>\n",
       "    </tr>\n",
       "    <tr>\n",
       "      <th>campaign</th>\n",
       "      <td>-0.014169</td>\n",
       "      <td> 0.021239</td>\n",
       "      <td> 0.085654</td>\n",
       "      <td>-0.085348</td>\n",
       "      <td> 1.000000</td>\n",
       "      <td> 0.058742</td>\n",
       "      <td>-0.091490</td>\n",
       "      <td> 0.176079</td>\n",
       "      <td> 0.145021</td>\n",
       "      <td> 0.007882</td>\n",
       "      <td>...</td>\n",
       "      <td>-0.011967</td>\n",
       "      <td>-0.011147</td>\n",
       "      <td> 0.021876</td>\n",
       "      <td> 0.038893</td>\n",
       "      <td>-0.032527</td>\n",
       "      <td>-0.004871</td>\n",
       "      <td> 0.005467</td>\n",
       "      <td>-0.007765</td>\n",
       "      <td> 0.098957</td>\n",
       "      <td>-0.054564</td>\n",
       "    </tr>\n",
       "    <tr>\n",
       "      <th>pdays</th>\n",
       "      <td>-0.043425</td>\n",
       "      <td> 0.089514</td>\n",
       "      <td> 0.120670</td>\n",
       "      <td>-0.046998</td>\n",
       "      <td> 0.058742</td>\n",
       "      <td> 1.000000</td>\n",
       "      <td>-0.587941</td>\n",
       "      <td> 0.270684</td>\n",
       "      <td> 0.058472</td>\n",
       "      <td>-0.092090</td>\n",
       "      <td>...</td>\n",
       "      <td>-0.011278</td>\n",
       "      <td>-0.067405</td>\n",
       "      <td> 0.007591</td>\n",
       "      <td> 0.031058</td>\n",
       "      <td>-0.043072</td>\n",
       "      <td> 0.009654</td>\n",
       "      <td>-0.028664</td>\n",
       "      <td>-0.006368</td>\n",
       "      <td> 0.488761</td>\n",
       "      <td>-0.940565</td>\n",
       "    </tr>\n",
       "    <tr>\n",
       "      <th>previous</th>\n",
       "      <td> 0.050931</td>\n",
       "      <td>-0.092754</td>\n",
       "      <td>-0.215464</td>\n",
       "      <td> 0.025724</td>\n",
       "      <td>-0.091490</td>\n",
       "      <td>-0.587941</td>\n",
       "      <td> 1.000000</td>\n",
       "      <td>-0.415238</td>\n",
       "      <td>-0.164922</td>\n",
       "      <td>-0.051420</td>\n",
       "      <td>...</td>\n",
       "      <td> 0.030516</td>\n",
       "      <td> 0.051054</td>\n",
       "      <td> 0.006366</td>\n",
       "      <td>-0.007326</td>\n",
       "      <td> 0.078260</td>\n",
       "      <td>-0.017419</td>\n",
       "      <td> 0.013485</td>\n",
       "      <td>-0.001958</td>\n",
       "      <td>-0.854241</td>\n",
       "      <td> 0.510865</td>\n",
       "    </tr>\n",
       "    <tr>\n",
       "      <th>emp.var.rate</th>\n",
       "      <td>-0.019192</td>\n",
       "      <td> 0.184389</td>\n",
       "      <td> 0.383405</td>\n",
       "      <td>-0.028848</td>\n",
       "      <td> 0.176079</td>\n",
       "      <td> 0.270684</td>\n",
       "      <td>-0.415238</td>\n",
       "      <td> 1.000000</td>\n",
       "      <td> 0.755155</td>\n",
       "      <td> 0.195022</td>\n",
       "      <td>...</td>\n",
       "      <td>-0.025176</td>\n",
       "      <td>-0.087204</td>\n",
       "      <td> 0.000153</td>\n",
       "      <td>-0.003592</td>\n",
       "      <td>-0.116507</td>\n",
       "      <td> 0.047053</td>\n",
       "      <td>-0.028425</td>\n",
       "      <td> 0.013772</td>\n",
       "      <td> 0.482106</td>\n",
       "      <td>-0.256587</td>\n",
       "    </tr>\n",
       "    <tr>\n",
       "      <th>cons.price.idx</th>\n",
       "      <td>-0.000482</td>\n",
       "      <td> 0.162098</td>\n",
       "      <td> 0.574452</td>\n",
       "      <td> 0.016672</td>\n",
       "      <td> 0.145021</td>\n",
       "      <td> 0.058472</td>\n",
       "      <td>-0.164922</td>\n",
       "      <td> 0.755155</td>\n",
       "      <td> 1.000000</td>\n",
       "      <td> 0.045835</td>\n",
       "      <td>...</td>\n",
       "      <td>-0.048750</td>\n",
       "      <td>-0.032616</td>\n",
       "      <td>-0.001529</td>\n",
       "      <td> 0.025988</td>\n",
       "      <td>-0.032322</td>\n",
       "      <td>-0.002939</td>\n",
       "      <td>-0.003210</td>\n",
       "      <td> 0.016884</td>\n",
       "      <td> 0.289799</td>\n",
       "      <td>-0.060257</td>\n",
       "    </tr>\n",
       "    <tr>\n",
       "      <th>cons.conf.idx</th>\n",
       "      <td> 0.098135</td>\n",
       "      <td> 0.021570</td>\n",
       "      <td> 0.252035</td>\n",
       "      <td>-0.034745</td>\n",
       "      <td> 0.007882</td>\n",
       "      <td>-0.092090</td>\n",
       "      <td>-0.051420</td>\n",
       "      <td> 0.195022</td>\n",
       "      <td> 0.045835</td>\n",
       "      <td> 1.000000</td>\n",
       "      <td>...</td>\n",
       "      <td>-0.005887</td>\n",
       "      <td> 0.065338</td>\n",
       "      <td> 0.007642</td>\n",
       "      <td>-0.073024</td>\n",
       "      <td> 0.025850</td>\n",
       "      <td> 0.058946</td>\n",
       "      <td>-0.000228</td>\n",
       "      <td> 0.032504</td>\n",
       "      <td> 0.100217</td>\n",
       "      <td> 0.087382</td>\n",
       "    </tr>\n",
       "    <tr>\n",
       "      <th>euribor3m</th>\n",
       "      <td>-0.015033</td>\n",
       "      <td> 0.176800</td>\n",
       "      <td> 0.390313</td>\n",
       "      <td>-0.032329</td>\n",
       "      <td> 0.159435</td>\n",
       "      <td> 0.301478</td>\n",
       "      <td>-0.458851</td>\n",
       "      <td> 0.970308</td>\n",
       "      <td> 0.657159</td>\n",
       "      <td> 0.276595</td>\n",
       "      <td>...</td>\n",
       "      <td>-0.011447</td>\n",
       "      <td>-0.088148</td>\n",
       "      <td> 0.005542</td>\n",
       "      <td>-0.012849</td>\n",
       "      <td>-0.119714</td>\n",
       "      <td> 0.046468</td>\n",
       "      <td>-0.023823</td>\n",
       "      <td> 0.017662</td>\n",
       "      <td> 0.502340</td>\n",
       "      <td>-0.282272</td>\n",
       "    </tr>\n",
       "    <tr>\n",
       "      <th>nr.employed</th>\n",
       "      <td>-0.041936</td>\n",
       "      <td> 0.167754</td>\n",
       "      <td> 0.261496</td>\n",
       "      <td>-0.044218</td>\n",
       "      <td> 0.161037</td>\n",
       "      <td> 0.381983</td>\n",
       "      <td>-0.514853</td>\n",
       "      <td> 0.897173</td>\n",
       "      <td> 0.472560</td>\n",
       "      <td> 0.107054</td>\n",
       "      <td>...</td>\n",
       "      <td>-0.002022</td>\n",
       "      <td>-0.112450</td>\n",
       "      <td> 0.001342</td>\n",
       "      <td>-0.002975</td>\n",
       "      <td>-0.144023</td>\n",
       "      <td> 0.042848</td>\n",
       "      <td>-0.030453</td>\n",
       "      <td> 0.010605</td>\n",
       "      <td> 0.508717</td>\n",
       "      <td>-0.354030</td>\n",
       "    </tr>\n",
       "    <tr>\n",
       "      <th>outcome</th>\n",
       "      <td> 0.060374</td>\n",
       "      <td>-0.076567</td>\n",
       "      <td>-0.137401</td>\n",
       "      <td> 0.418565</td>\n",
       "      <td>-0.076091</td>\n",
       "      <td>-0.332012</td>\n",
       "      <td> 0.255697</td>\n",
       "      <td>-0.283216</td>\n",
       "      <td>-0.098326</td>\n",
       "      <td> 0.054393</td>\n",
       "      <td>...</td>\n",
       "      <td>-0.015814</td>\n",
       "      <td> 0.078373</td>\n",
       "      <td>-0.017796</td>\n",
       "      <td>-0.021253</td>\n",
       "      <td> 0.055781</td>\n",
       "      <td> 0.009032</td>\n",
       "      <td> 0.032872</td>\n",
       "      <td>-0.002169</td>\n",
       "      <td>-0.207179</td>\n",
       "      <td> 0.325804</td>\n",
       "    </tr>\n",
       "    <tr>\n",
       "      <th>job_blue-collar</th>\n",
       "      <td>-0.042976</td>\n",
       "      <td> 0.167771</td>\n",
       "      <td> 0.098988</td>\n",
       "      <td> 0.010396</td>\n",
       "      <td>-0.021404</td>\n",
       "      <td> 0.062240</td>\n",
       "      <td>-0.041762</td>\n",
       "      <td> 0.050353</td>\n",
       "      <td> 0.080969</td>\n",
       "      <td>-0.122025</td>\n",
       "      <td>...</td>\n",
       "      <td>-0.152741</td>\n",
       "      <td>-0.107122</td>\n",
       "      <td>-0.104747</td>\n",
       "      <td>-0.169771</td>\n",
       "      <td>-0.074502</td>\n",
       "      <td>-0.234697</td>\n",
       "      <td>-0.086993</td>\n",
       "      <td>-0.051108</td>\n",
       "      <td> 0.026745</td>\n",
       "      <td>-0.053400</td>\n",
       "    </tr>\n",
       "    <tr>\n",
       "      <th>job_entrepreneur</th>\n",
       "      <td> 0.039110</td>\n",
       "      <td> 0.020113</td>\n",
       "      <td> 0.028028</td>\n",
       "      <td>-0.005750</td>\n",
       "      <td>-0.024137</td>\n",
       "      <td> 0.032033</td>\n",
       "      <td>-0.017265</td>\n",
       "      <td> 0.022054</td>\n",
       "      <td> 0.011657</td>\n",
       "      <td>-0.014320</td>\n",
       "      <td>...</td>\n",
       "      <td>-0.056409</td>\n",
       "      <td>-0.039561</td>\n",
       "      <td>-0.038684</td>\n",
       "      <td>-0.062698</td>\n",
       "      <td>-0.027514</td>\n",
       "      <td>-0.086676</td>\n",
       "      <td>-0.032128</td>\n",
       "      <td>-0.018875</td>\n",
       "      <td> 0.008954</td>\n",
       "      <td>-0.029330</td>\n",
       "    </tr>\n",
       "    <tr>\n",
       "      <th>job_housemaid</th>\n",
       "      <td> 0.089297</td>\n",
       "      <td> 0.036203</td>\n",
       "      <td> 0.018311</td>\n",
       "      <td>-0.017642</td>\n",
       "      <td>-0.004750</td>\n",
       "      <td> 0.017684</td>\n",
       "      <td>-0.027623</td>\n",
       "      <td> 0.036182</td>\n",
       "      <td> 0.022542</td>\n",
       "      <td> 0.042351</td>\n",
       "      <td>...</td>\n",
       "      <td>-0.048400</td>\n",
       "      <td>-0.033944</td>\n",
       "      <td>-0.033192</td>\n",
       "      <td>-0.053796</td>\n",
       "      <td>-0.023608</td>\n",
       "      <td>-0.074370</td>\n",
       "      <td>-0.027566</td>\n",
       "      <td>-0.016195</td>\n",
       "      <td> 0.042448</td>\n",
       "      <td>-0.014792</td>\n",
       "    </tr>\n",
       "    <tr>\n",
       "      <th>job_management</th>\n",
       "      <td> 0.065606</td>\n",
       "      <td>-0.043783</td>\n",
       "      <td>-0.045940</td>\n",
       "      <td>-0.011460</td>\n",
       "      <td>-0.011967</td>\n",
       "      <td>-0.011278</td>\n",
       "      <td> 0.030516</td>\n",
       "      <td>-0.025176</td>\n",
       "      <td>-0.048750</td>\n",
       "      <td>-0.005887</td>\n",
       "      <td>...</td>\n",
       "      <td> 1.000000</td>\n",
       "      <td>-0.059877</td>\n",
       "      <td>-0.058549</td>\n",
       "      <td>-0.094895</td>\n",
       "      <td>-0.041643</td>\n",
       "      <td>-0.131185</td>\n",
       "      <td>-0.048626</td>\n",
       "      <td>-0.028567</td>\n",
       "      <td>-0.007995</td>\n",
       "      <td> 0.004104</td>\n",
       "    </tr>\n",
       "    <tr>\n",
       "      <th>job_retired</th>\n",
       "      <td> 0.412542</td>\n",
       "      <td> 0.023665</td>\n",
       "      <td>-0.038983</td>\n",
       "      <td> 0.044257</td>\n",
       "      <td>-0.011147</td>\n",
       "      <td>-0.067405</td>\n",
       "      <td> 0.051054</td>\n",
       "      <td>-0.087204</td>\n",
       "      <td>-0.032616</td>\n",
       "      <td> 0.065338</td>\n",
       "      <td>...</td>\n",
       "      <td>-0.059877</td>\n",
       "      <td> 1.000000</td>\n",
       "      <td>-0.041062</td>\n",
       "      <td>-0.066553</td>\n",
       "      <td>-0.029206</td>\n",
       "      <td>-0.092005</td>\n",
       "      <td>-0.034103</td>\n",
       "      <td>-0.020035</td>\n",
       "      <td>-0.045550</td>\n",
       "      <td> 0.056007</td>\n",
       "    </tr>\n",
       "    <tr>\n",
       "      <th>job_self-employed</th>\n",
       "      <td> 0.010991</td>\n",
       "      <td>-0.019191</td>\n",
       "      <td> 0.003609</td>\n",
       "      <td>-0.001466</td>\n",
       "      <td> 0.021876</td>\n",
       "      <td> 0.007591</td>\n",
       "      <td> 0.006366</td>\n",
       "      <td> 0.000153</td>\n",
       "      <td>-0.001529</td>\n",
       "      <td> 0.007642</td>\n",
       "      <td>...</td>\n",
       "      <td>-0.058549</td>\n",
       "      <td>-0.041062</td>\n",
       "      <td> 1.000000</td>\n",
       "      <td>-0.065077</td>\n",
       "      <td>-0.028558</td>\n",
       "      <td>-0.089964</td>\n",
       "      <td>-0.033346</td>\n",
       "      <td>-0.019591</td>\n",
       "      <td>-0.014306</td>\n",
       "      <td>-0.003325</td>\n",
       "    </tr>\n",
       "    <tr>\n",
       "      <th>job_services</th>\n",
       "      <td>-0.050379</td>\n",
       "      <td> 0.021453</td>\n",
       "      <td> 0.024214</td>\n",
       "      <td>-0.030936</td>\n",
       "      <td> 0.038893</td>\n",
       "      <td> 0.031058</td>\n",
       "      <td>-0.007326</td>\n",
       "      <td>-0.003592</td>\n",
       "      <td> 0.025988</td>\n",
       "      <td>-0.073024</td>\n",
       "      <td>...</td>\n",
       "      <td>-0.094895</td>\n",
       "      <td>-0.066553</td>\n",
       "      <td>-0.065077</td>\n",
       "      <td> 1.000000</td>\n",
       "      <td>-0.046286</td>\n",
       "      <td>-0.145812</td>\n",
       "      <td>-0.054047</td>\n",
       "      <td>-0.031752</td>\n",
       "      <td> 0.002033</td>\n",
       "      <td>-0.025132</td>\n",
       "    </tr>\n",
       "    <tr>\n",
       "      <th>job_student</th>\n",
       "      <td>-0.185453</td>\n",
       "      <td>-0.017566</td>\n",
       "      <td>-0.018891</td>\n",
       "      <td> 0.016982</td>\n",
       "      <td>-0.032527</td>\n",
       "      <td>-0.043072</td>\n",
       "      <td> 0.078260</td>\n",
       "      <td>-0.116507</td>\n",
       "      <td>-0.032322</td>\n",
       "      <td> 0.025850</td>\n",
       "      <td>...</td>\n",
       "      <td>-0.041643</td>\n",
       "      <td>-0.029206</td>\n",
       "      <td>-0.028558</td>\n",
       "      <td>-0.046286</td>\n",
       "      <td> 1.000000</td>\n",
       "      <td>-0.063988</td>\n",
       "      <td>-0.023718</td>\n",
       "      <td>-0.013934</td>\n",
       "      <td>-0.084656</td>\n",
       "      <td> 0.011176</td>\n",
       "    </tr>\n",
       "    <tr>\n",
       "      <th>job_technician</th>\n",
       "      <td>-0.064930</td>\n",
       "      <td>-0.081766</td>\n",
       "      <td>-0.021849</td>\n",
       "      <td>-0.006173</td>\n",
       "      <td>-0.004871</td>\n",
       "      <td> 0.009654</td>\n",
       "      <td>-0.017419</td>\n",
       "      <td> 0.047053</td>\n",
       "      <td>-0.002939</td>\n",
       "      <td> 0.058946</td>\n",
       "      <td>...</td>\n",
       "      <td>-0.131185</td>\n",
       "      <td>-0.092005</td>\n",
       "      <td>-0.089964</td>\n",
       "      <td>-0.145812</td>\n",
       "      <td>-0.063988</td>\n",
       "      <td> 1.000000</td>\n",
       "      <td>-0.074716</td>\n",
       "      <td>-0.043896</td>\n",
       "      <td> 0.020288</td>\n",
       "      <td>-0.013611</td>\n",
       "    </tr>\n",
       "    <tr>\n",
       "      <th>job_unemployed</th>\n",
       "      <td>-0.009394</td>\n",
       "      <td>-0.010086</td>\n",
       "      <td> 0.001462</td>\n",
       "      <td>-0.004565</td>\n",
       "      <td> 0.005467</td>\n",
       "      <td>-0.028664</td>\n",
       "      <td> 0.013485</td>\n",
       "      <td>-0.028425</td>\n",
       "      <td>-0.003210</td>\n",
       "      <td>-0.000228</td>\n",
       "      <td>...</td>\n",
       "      <td>-0.048626</td>\n",
       "      <td>-0.034103</td>\n",
       "      <td>-0.033346</td>\n",
       "      <td>-0.054047</td>\n",
       "      <td>-0.023718</td>\n",
       "      <td>-0.074716</td>\n",
       "      <td> 1.000000</td>\n",
       "      <td>-0.016270</td>\n",
       "      <td>-0.012524</td>\n",
       "      <td> 0.034295</td>\n",
       "    </tr>\n",
       "    <tr>\n",
       "      <th>job_unknown</th>\n",
       "      <td> 0.063831</td>\n",
       "      <td> 0.065701</td>\n",
       "      <td> 0.021516</td>\n",
       "      <td>-0.008591</td>\n",
       "      <td>-0.007765</td>\n",
       "      <td>-0.006368</td>\n",
       "      <td>-0.001958</td>\n",
       "      <td> 0.013772</td>\n",
       "      <td> 0.016884</td>\n",
       "      <td> 0.032504</td>\n",
       "      <td>...</td>\n",
       "      <td>-0.028567</td>\n",
       "      <td>-0.020035</td>\n",
       "      <td>-0.019591</td>\n",
       "      <td>-0.031752</td>\n",
       "      <td>-0.013934</td>\n",
       "      <td>-0.043896</td>\n",
       "      <td>-0.016270</td>\n",
       "      <td> 1.000000</td>\n",
       "      <td> 0.004583</td>\n",
       "      <td> 0.009007</td>\n",
       "    </tr>\n",
       "    <tr>\n",
       "      <th>poutcome_nonexistent</th>\n",
       "      <td>-0.031205</td>\n",
       "      <td> 0.091124</td>\n",
       "      <td> 0.251147</td>\n",
       "      <td>-0.021259</td>\n",
       "      <td> 0.098957</td>\n",
       "      <td> 0.488761</td>\n",
       "      <td>-0.854241</td>\n",
       "      <td> 0.482106</td>\n",
       "      <td> 0.289799</td>\n",
       "      <td> 0.100217</td>\n",
       "      <td>...</td>\n",
       "      <td>-0.007995</td>\n",
       "      <td>-0.045550</td>\n",
       "      <td>-0.014306</td>\n",
       "      <td> 0.002033</td>\n",
       "      <td>-0.084656</td>\n",
       "      <td> 0.020288</td>\n",
       "      <td>-0.012524</td>\n",
       "      <td> 0.004583</td>\n",
       "      <td> 1.000000</td>\n",
       "      <td>-0.459409</td>\n",
       "    </tr>\n",
       "    <tr>\n",
       "      <th>poutcome_success</th>\n",
       "      <td> 0.043341</td>\n",
       "      <td>-0.086343</td>\n",
       "      <td>-0.109971</td>\n",
       "      <td> 0.046154</td>\n",
       "      <td>-0.054564</td>\n",
       "      <td>-0.940565</td>\n",
       "      <td> 0.510865</td>\n",
       "      <td>-0.256587</td>\n",
       "      <td>-0.060257</td>\n",
       "      <td> 0.087382</td>\n",
       "      <td>...</td>\n",
       "      <td> 0.004104</td>\n",
       "      <td> 0.056007</td>\n",
       "      <td>-0.003325</td>\n",
       "      <td>-0.025132</td>\n",
       "      <td> 0.011176</td>\n",
       "      <td>-0.013611</td>\n",
       "      <td> 0.034295</td>\n",
       "      <td> 0.009007</td>\n",
       "      <td>-0.459409</td>\n",
       "      <td> 1.000000</td>\n",
       "    </tr>\n",
       "  </tbody>\n",
       "</table>\n",
       "<p>26 rows × 26 columns</p>\n",
       "</div>"
      ],
      "text/plain": [
       "                           age   default   contact  duration  campaign  \\\n",
       "age                   1.000000  0.161427  0.012700  0.041299 -0.014169   \n",
       "default               0.161427  1.000000  0.150494 -0.020140  0.021239   \n",
       "contact               0.012700  0.150494  1.000000 -0.028185  0.085654   \n",
       "duration              0.041299 -0.020140 -0.028185  1.000000 -0.085348   \n",
       "campaign             -0.014169  0.021239  0.085654 -0.085348  1.000000   \n",
       "pdays                -0.043425  0.089514  0.120670 -0.046998  0.058742   \n",
       "previous              0.050931 -0.092754 -0.215464  0.025724 -0.091490   \n",
       "emp.var.rate         -0.019192  0.184389  0.383405 -0.028848  0.176079   \n",
       "cons.price.idx       -0.000482  0.162098  0.574452  0.016672  0.145021   \n",
       "cons.conf.idx         0.098135  0.021570  0.252035 -0.034745  0.007882   \n",
       "euribor3m            -0.015033  0.176800  0.390313 -0.032329  0.159435   \n",
       "nr.employed          -0.041936  0.167754  0.261496 -0.044218  0.161037   \n",
       "outcome               0.060374 -0.076567 -0.137401  0.418565 -0.076091   \n",
       "job_blue-collar      -0.042976  0.167771  0.098988  0.010396 -0.021404   \n",
       "job_entrepreneur      0.039110  0.020113  0.028028 -0.005750 -0.024137   \n",
       "job_housemaid         0.089297  0.036203  0.018311 -0.017642 -0.004750   \n",
       "job_management        0.065606 -0.043783 -0.045940 -0.011460 -0.011967   \n",
       "job_retired           0.412542  0.023665 -0.038983  0.044257 -0.011147   \n",
       "job_self-employed     0.010991 -0.019191  0.003609 -0.001466  0.021876   \n",
       "job_services         -0.050379  0.021453  0.024214 -0.030936  0.038893   \n",
       "job_student          -0.185453 -0.017566 -0.018891  0.016982 -0.032527   \n",
       "job_technician       -0.064930 -0.081766 -0.021849 -0.006173 -0.004871   \n",
       "job_unemployed       -0.009394 -0.010086  0.001462 -0.004565  0.005467   \n",
       "job_unknown           0.063831  0.065701  0.021516 -0.008591 -0.007765   \n",
       "poutcome_nonexistent -0.031205  0.091124  0.251147 -0.021259  0.098957   \n",
       "poutcome_success      0.043341 -0.086343 -0.109971  0.046154 -0.054564   \n",
       "\n",
       "                         pdays  previous  emp.var.rate  cons.price.idx  \\\n",
       "age                  -0.043425  0.050931     -0.019192       -0.000482   \n",
       "default               0.089514 -0.092754      0.184389        0.162098   \n",
       "contact               0.120670 -0.215464      0.383405        0.574452   \n",
       "duration             -0.046998  0.025724     -0.028848        0.016672   \n",
       "campaign              0.058742 -0.091490      0.176079        0.145021   \n",
       "pdays                 1.000000 -0.587941      0.270684        0.058472   \n",
       "previous             -0.587941  1.000000     -0.415238       -0.164922   \n",
       "emp.var.rate          0.270684 -0.415238      1.000000        0.755155   \n",
       "cons.price.idx        0.058472 -0.164922      0.755155        1.000000   \n",
       "cons.conf.idx        -0.092090 -0.051420      0.195022        0.045835   \n",
       "euribor3m             0.301478 -0.458851      0.970308        0.657159   \n",
       "nr.employed           0.381983 -0.514853      0.897173        0.472560   \n",
       "outcome              -0.332012  0.255697     -0.283216       -0.098326   \n",
       "job_blue-collar       0.062240 -0.041762      0.050353        0.080969   \n",
       "job_entrepreneur      0.032033 -0.017265      0.022054        0.011657   \n",
       "job_housemaid         0.017684 -0.027623      0.036182        0.022542   \n",
       "job_management       -0.011278  0.030516     -0.025176       -0.048750   \n",
       "job_retired          -0.067405  0.051054     -0.087204       -0.032616   \n",
       "job_self-employed     0.007591  0.006366      0.000153       -0.001529   \n",
       "job_services          0.031058 -0.007326     -0.003592        0.025988   \n",
       "job_student          -0.043072  0.078260     -0.116507       -0.032322   \n",
       "job_technician        0.009654 -0.017419      0.047053       -0.002939   \n",
       "job_unemployed       -0.028664  0.013485     -0.028425       -0.003210   \n",
       "job_unknown          -0.006368 -0.001958      0.013772        0.016884   \n",
       "poutcome_nonexistent  0.488761 -0.854241      0.482106        0.289799   \n",
       "poutcome_success     -0.940565  0.510865     -0.256587       -0.060257   \n",
       "\n",
       "                      cons.conf.idx        ...         job_management  \\\n",
       "age                        0.098135        ...               0.065606   \n",
       "default                    0.021570        ...              -0.043783   \n",
       "contact                    0.252035        ...              -0.045940   \n",
       "duration                  -0.034745        ...              -0.011460   \n",
       "campaign                   0.007882        ...              -0.011967   \n",
       "pdays                     -0.092090        ...              -0.011278   \n",
       "previous                  -0.051420        ...               0.030516   \n",
       "emp.var.rate               0.195022        ...              -0.025176   \n",
       "cons.price.idx             0.045835        ...              -0.048750   \n",
       "cons.conf.idx              1.000000        ...              -0.005887   \n",
       "euribor3m                  0.276595        ...              -0.011447   \n",
       "nr.employed                0.107054        ...              -0.002022   \n",
       "outcome                    0.054393        ...              -0.015814   \n",
       "job_blue-collar           -0.122025        ...              -0.152741   \n",
       "job_entrepreneur          -0.014320        ...              -0.056409   \n",
       "job_housemaid              0.042351        ...              -0.048400   \n",
       "job_management            -0.005887        ...               1.000000   \n",
       "job_retired                0.065338        ...              -0.059877   \n",
       "job_self-employed          0.007642        ...              -0.058549   \n",
       "job_services              -0.073024        ...              -0.094895   \n",
       "job_student                0.025850        ...              -0.041643   \n",
       "job_technician             0.058946        ...              -0.131185   \n",
       "job_unemployed            -0.000228        ...              -0.048626   \n",
       "job_unknown                0.032504        ...              -0.028567   \n",
       "poutcome_nonexistent       0.100217        ...              -0.007995   \n",
       "poutcome_success           0.087382        ...               0.004104   \n",
       "\n",
       "                      job_retired  job_self-employed  job_services  \\\n",
       "age                      0.412542           0.010991     -0.050379   \n",
       "default                  0.023665          -0.019191      0.021453   \n",
       "contact                 -0.038983           0.003609      0.024214   \n",
       "duration                 0.044257          -0.001466     -0.030936   \n",
       "campaign                -0.011147           0.021876      0.038893   \n",
       "pdays                   -0.067405           0.007591      0.031058   \n",
       "previous                 0.051054           0.006366     -0.007326   \n",
       "emp.var.rate            -0.087204           0.000153     -0.003592   \n",
       "cons.price.idx          -0.032616          -0.001529      0.025988   \n",
       "cons.conf.idx            0.065338           0.007642     -0.073024   \n",
       "euribor3m               -0.088148           0.005542     -0.012849   \n",
       "nr.employed             -0.112450           0.001342     -0.002975   \n",
       "outcome                  0.078373          -0.017796     -0.021253   \n",
       "job_blue-collar         -0.107122          -0.104747     -0.169771   \n",
       "job_entrepreneur        -0.039561          -0.038684     -0.062698   \n",
       "job_housemaid           -0.033944          -0.033192     -0.053796   \n",
       "job_management          -0.059877          -0.058549     -0.094895   \n",
       "job_retired              1.000000          -0.041062     -0.066553   \n",
       "job_self-employed       -0.041062           1.000000     -0.065077   \n",
       "job_services            -0.066553          -0.065077      1.000000   \n",
       "job_student             -0.029206          -0.028558     -0.046286   \n",
       "job_technician          -0.092005          -0.089964     -0.145812   \n",
       "job_unemployed          -0.034103          -0.033346     -0.054047   \n",
       "job_unknown             -0.020035          -0.019591     -0.031752   \n",
       "poutcome_nonexistent    -0.045550          -0.014306      0.002033   \n",
       "poutcome_success         0.056007          -0.003325     -0.025132   \n",
       "\n",
       "                      job_student  job_technician  job_unemployed  \\\n",
       "age                     -0.185453       -0.064930       -0.009394   \n",
       "default                 -0.017566       -0.081766       -0.010086   \n",
       "contact                 -0.018891       -0.021849        0.001462   \n",
       "duration                 0.016982       -0.006173       -0.004565   \n",
       "campaign                -0.032527       -0.004871        0.005467   \n",
       "pdays                   -0.043072        0.009654       -0.028664   \n",
       "previous                 0.078260       -0.017419        0.013485   \n",
       "emp.var.rate            -0.116507        0.047053       -0.028425   \n",
       "cons.price.idx          -0.032322       -0.002939       -0.003210   \n",
       "cons.conf.idx            0.025850        0.058946       -0.000228   \n",
       "euribor3m               -0.119714        0.046468       -0.023823   \n",
       "nr.employed             -0.144023        0.042848       -0.030453   \n",
       "outcome                  0.055781        0.009032        0.032872   \n",
       "job_blue-collar         -0.074502       -0.234697       -0.086993   \n",
       "job_entrepreneur        -0.027514       -0.086676       -0.032128   \n",
       "job_housemaid           -0.023608       -0.074370       -0.027566   \n",
       "job_management          -0.041643       -0.131185       -0.048626   \n",
       "job_retired             -0.029206       -0.092005       -0.034103   \n",
       "job_self-employed       -0.028558       -0.089964       -0.033346   \n",
       "job_services            -0.046286       -0.145812       -0.054047   \n",
       "job_student              1.000000       -0.063988       -0.023718   \n",
       "job_technician          -0.063988        1.000000       -0.074716   \n",
       "job_unemployed          -0.023718       -0.074716        1.000000   \n",
       "job_unknown             -0.013934       -0.043896       -0.016270   \n",
       "poutcome_nonexistent    -0.084656        0.020288       -0.012524   \n",
       "poutcome_success         0.011176       -0.013611        0.034295   \n",
       "\n",
       "                      job_unknown  poutcome_nonexistent  poutcome_success  \n",
       "age                      0.063831             -0.031205          0.043341  \n",
       "default                  0.065701              0.091124         -0.086343  \n",
       "contact                  0.021516              0.251147         -0.109971  \n",
       "duration                -0.008591             -0.021259          0.046154  \n",
       "campaign                -0.007765              0.098957         -0.054564  \n",
       "pdays                   -0.006368              0.488761         -0.940565  \n",
       "previous                -0.001958             -0.854241          0.510865  \n",
       "emp.var.rate             0.013772              0.482106         -0.256587  \n",
       "cons.price.idx           0.016884              0.289799         -0.060257  \n",
       "cons.conf.idx            0.032504              0.100217          0.087382  \n",
       "euribor3m                0.017662              0.502340         -0.282272  \n",
       "nr.employed              0.010605              0.508717         -0.354030  \n",
       "outcome                 -0.002169             -0.207179          0.325804  \n",
       "job_blue-collar         -0.051108              0.026745         -0.053400  \n",
       "job_entrepreneur        -0.018875              0.008954         -0.029330  \n",
       "job_housemaid           -0.016195              0.042448         -0.014792  \n",
       "job_management          -0.028567             -0.007995          0.004104  \n",
       "job_retired             -0.020035             -0.045550          0.056007  \n",
       "job_self-employed       -0.019591             -0.014306         -0.003325  \n",
       "job_services            -0.031752              0.002033         -0.025132  \n",
       "job_student             -0.013934             -0.084656          0.011176  \n",
       "job_technician          -0.043896              0.020288         -0.013611  \n",
       "job_unemployed          -0.016270             -0.012524          0.034295  \n",
       "job_unknown              1.000000              0.004583          0.009007  \n",
       "poutcome_nonexistent     0.004583              1.000000         -0.459409  \n",
       "poutcome_success         0.009007             -0.459409          1.000000  \n",
       "\n",
       "[26 rows x 26 columns]"
      ]
     },
     "execution_count": 36,
     "metadata": {},
     "output_type": "execute_result"
    }
   ],
   "source": [
    "bank.corr()"
   ]
  },
  {
   "cell_type": "code",
   "execution_count": 37,
   "metadata": {
    "collapsed": false
   },
   "outputs": [
    {
     "data": {
      "text/html": [
       "<div style=\"max-height:1000px;max-width:1500px;overflow:auto;\">\n",
       "<table border=\"1\" class=\"dataframe\">\n",
       "  <thead>\n",
       "    <tr style=\"text-align: right;\">\n",
       "      <th></th>\n",
       "      <th>age</th>\n",
       "      <th>duration</th>\n",
       "    </tr>\n",
       "  </thead>\n",
       "  <tbody>\n",
       "    <tr>\n",
       "      <th>age</th>\n",
       "      <td> 1.000000</td>\n",
       "      <td> 0.041299</td>\n",
       "    </tr>\n",
       "    <tr>\n",
       "      <th>duration</th>\n",
       "      <td> 0.041299</td>\n",
       "      <td> 1.000000</td>\n",
       "    </tr>\n",
       "  </tbody>\n",
       "</table>\n",
       "</div>"
      ],
      "text/plain": [
       "               age  duration\n",
       "age       1.000000  0.041299\n",
       "duration  0.041299  1.000000"
      ]
     },
     "execution_count": 37,
     "metadata": {},
     "output_type": "execute_result"
    }
   ],
   "source": [
    "bank[['age', 'duration']].corr()\n",
    "# age won't be useful"
   ]
  },
  {
   "cell_type": "code",
   "execution_count": 38,
   "metadata": {
    "collapsed": false
   },
   "outputs": [
    {
     "data": {
      "text/plain": [
       "<matplotlib.axes._subplots.AxesSubplot at 0x10c1359d0>"
      ]
     },
     "execution_count": 38,
     "metadata": {},
     "output_type": "execute_result"
    },
    {
     "data": {
      "image/png": "[encoded data removed]",
      "text/plain": [
       "<matplotlib.figure.Figure at 0x10e0950d0>"
      ]
     },
     "metadata": {},
     "output_type": "display_data"
    }
   ],
   "source": [
    "bank.groupby('education').duration.mean().plot(kind='bar')\n",
    "# or education, except that illiterate column is interesting.."
   ]
  },
  {
   "cell_type": "code",
   "execution_count": 39,
   "metadata": {
    "collapsed": false
   },
   "outputs": [
    {
     "data": {
      "text/plain": [
       "<matplotlib.axes._subplots.AxesSubplot at 0x10e444dd0>"
      ]
     },
     "execution_count": 39,
     "metadata": {},
     "output_type": "execute_result"
    },
    {
     "data": {
      "image/png": "[encoded data removed]",
      "text/plain": [
       "<matplotlib.figure.Figure at 0x10e0b2ad0>"
      ]
     },
     "metadata": {},
     "output_type": "display_data"
    }
   ],
   "source": [
    "bank.groupby('marital').duration.mean().plot(kind='bar')\n",
    "# or marital"
   ]
  },
  {
   "cell_type": "code",
   "execution_count": null,
   "metadata": {
    "collapsed": true
   },
   "outputs": [],
   "source": []
  },
  {
   "cell_type": "code",
   "execution_count": 40,
   "metadata": {
    "collapsed": false
   },
   "outputs": [
    {
     "data": {
      "text/plain": [
       "<matplotlib.axes._subplots.AxesSubplot at 0x10e4c0910>"
      ]
     },
     "execution_count": 40,
     "metadata": {},
     "output_type": "execute_result"
    },
    {
     "data": {
      "image/png": "[encoded data removed]",
      "text/plain": [
       "<matplotlib.figure.Figure at 0x10e4d3590>"
      ]
     },
     "metadata": {},
     "output_type": "display_data"
    }
   ],
   "source": [
    "bank.groupby('job').duration.mean().plot(kind='bar')\n",
    "# job maybe.."
   ]
  },
  {
   "cell_type": "code",
   "execution_count": 41,
   "metadata": {
    "collapsed": false
   },
   "outputs": [
    {
     "data": {
      "text/plain": [
       "<matplotlib.axes._subplots.AxesSubplot at 0x10e58e7d0>"
      ]
     },
     "execution_count": 41,
     "metadata": {},
     "output_type": "execute_result"
    },
    {
     "data": {
      "image/png": "[encoded data removed]",
      "text/plain": [
       "<matplotlib.figure.Figure at 0x10e5980d0>"
      ]
     },
     "metadata": {},
     "output_type": "display_data"
    }
   ],
   "source": [
    "bank.groupby('day_of_week').duration.mean().plot(kind='bar')"
   ]
  },
  {
   "cell_type": "code",
   "execution_count": 42,
   "metadata": {
    "collapsed": false
   },
   "outputs": [
    {
     "data": {
      "text/plain": [
       "<matplotlib.axes._subplots.AxesSubplot at 0x10e584490>"
      ]
     },
     "execution_count": 42,
     "metadata": {},
     "output_type": "execute_result"
    },
    {
     "data": {
      "image/png": "[encoded data removed]",
      "text/plain": [
       "<matplotlib.figure.Figure at 0x10e642390>"
      ]
     },
     "metadata": {},
     "output_type": "display_data"
    }
   ],
   "source": [
    "bank.groupby('previous').duration.mean().plot(kind='bar')"
   ]
  },
  {
   "cell_type": "code",
   "execution_count": 43,
   "metadata": {
    "collapsed": false
   },
   "outputs": [],
   "source": [
    "duration_response = bank['duration']"
   ]
  },
  {
   "cell_type": "code",
   "execution_count": 44,
   "metadata": {
    "collapsed": false
   },
   "outputs": [],
   "source": [
    "from sklearn.linear_model import LinearRegression"
   ]
  },
  {
   "cell_type": "code",
   "execution_count": 45,
   "metadata": {
    "collapsed": false
   },
   "outputs": [
    {
     "data": {
      "text/plain": [
       "255.1724633149405"
      ]
     },
     "execution_count": 45,
     "metadata": {},
     "output_type": "execute_result"
    }
   ],
   "source": [
    "linreg = LinearRegression()\n",
    "rmse = np.sqrt(abs(cross_val_score(linreg, X, duration_response, cv = 5, scoring='mean_squared_error').mean()))\n",
    "rmse"
   ]
  },
  {
   "cell_type": "code",
   "execution_count": null,
   "metadata": {
    "collapsed": true
   },
   "outputs": [],
   "source": [
    "# Not that great.."
   ]
  },
  {
   "cell_type": "code",
   "execution_count": null,
   "metadata": {
    "collapsed": false
   },
   "outputs": [],
   "source": [
    "# job field\n",
    "bank.groupby('job').duration.mean().plot(kind='bar')"
   ]
  },
  {
   "cell_type": "code",
   "execution_count": null,
   "metadata": {
    "collapsed": false
   },
   "outputs": [],
   "source": [
    "# Only with the retired field\n",
    "linreg = LinearRegression()\n",
    "rmse = np.sqrt(abs(cross_val_score(linreg, X[['job_retired']], duration_response, cv = 5, scoring='mean_squared_error').mean()))\n",
    "rmse"
   ]
  },
  {
   "cell_type": "code",
   "execution_count": null,
   "metadata": {
    "collapsed": false
   },
   "outputs": [],
   "source": [
    "# How can we make this a bit better?"
   ]
  },
  {
   "cell_type": "code",
   "execution_count": null,
   "metadata": {
    "collapsed": false
   },
   "outputs": [],
   "source": []
  },
  {
   "cell_type": "code",
   "execution_count": null,
   "metadata": {
    "collapsed": true
   },
   "outputs": [],
   "source": []
  }
 ],
 "metadata": {
  "kernelspec": {
   "display_name": "Python 2",
   "language": "python",
   "name": "python2"
  },
  "language_info": {
   "codemirror_mode": {
    "name": "ipython",
    "version": 2
   },
   "file_extension": ".py",
   "mimetype": "text/x-python",
   "name": "python",
   "nbconvert_exporter": "python",
   "pygments_lexer": "ipython2",
   "version": "2.7.13"
  }
 },
 "nbformat": 4,
 "nbformat_minor": 0
}
